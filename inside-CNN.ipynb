{
 "cells": [
  {
   "cell_type": "code",
   "execution_count": 2,
   "metadata": {},
   "outputs": [],
   "source": [
    "import requests\n",
    "import numpy as np \n",
    "import matplotlib.pyplot as plt \n",
    "import tensorflow as tf \n",
    "from tensorflow.keras.applications.vgg16 import VGG16, preprocess_input\n",
    "from tensorflow.keras.utils import img_to_array, get_file\n",
    "from tensorflow.keras.preprocessing.image import load_img\n",
    "from skimage.transform import resize"
   ]
  },
  {
   "cell_type": "markdown",
   "metadata": {},
   "source": [
    "### Load Labels"
   ]
  },
  {
   "cell_type": "code",
   "execution_count": 9,
   "metadata": {},
   "outputs": [
    {
     "name": "stdout",
     "output_type": "stream",
     "text": [
      "Num of Labels: 1000\n",
      "Labels Sample:  ['tench, Tinca tinca', 'goldfish, Carassius auratus', 'great white shark, white shark, man-eater, man-eating shark, Carcharodon carcharias', 'tiger shark, Galeocerdo cuvieri', 'hammerhead, hammerhead shark']\n"
     ]
    }
   ],
   "source": [
    "LABELS_PATH = './labels.txt'\n",
    "\n",
    "with open(LABELS_PATH, 'rt') as f:\n",
    "    labels = [label[:-1] for label in f.readlines()]\n",
    "\n",
    "print('Num of Labels: %s' % len(labels))\n",
    "print('Labels Sample: ', labels[:5])"
   ]
  },
  {
   "cell_type": "code",
   "execution_count": 10,
   "metadata": {},
   "outputs": [
    {
     "name": "stderr",
     "output_type": "stream",
     "text": [
      "'wget' is not recognized as an internal or external command,\n",
      "operable program or batch file.\n"
     ]
    }
   ],
   "source": [
    "!wget -O img1.jpeg https://ae01.alicdn.com/kf/He7f1b4f3be384999886833fb85fda35dt/Outdoor-Fun-Sports-48-72-Inch-Dual-Line-Stunt-Kites-For-Adults-Pwoer-Kite-With-Handle.jpg_Q90.jpg_.webp"
   ]
  },
  {
   "cell_type": "code",
   "execution_count": null,
   "metadata": {},
   "outputs": [],
   "source": []
  }
 ],
 "metadata": {
  "kernelspec": {
   "display_name": "Python 3.9.7 ('sk')",
   "language": "python",
   "name": "python3"
  },
  "language_info": {
   "codemirror_mode": {
    "name": "ipython",
    "version": 3
   },
   "file_extension": ".py",
   "mimetype": "text/x-python",
   "name": "python",
   "nbconvert_exporter": "python",
   "pygments_lexer": "ipython3",
   "version": "3.9.7"
  },
  "orig_nbformat": 4,
  "vscode": {
   "interpreter": {
    "hash": "2125ec421a67a6042ef86a178288f7228064f025fa97d73fd87bc2f5738389af"
   }
  }
 },
 "nbformat": 4,
 "nbformat_minor": 2
}
