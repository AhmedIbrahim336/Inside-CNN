{
 "cells": [
  {
   "cell_type": "code",
   "execution_count": 2,
   "metadata": {},
   "outputs": [],
   "source": [
    "import requests\n",
    "import numpy as np \n",
    "import matplotlib.pyplot as plt \n",
    "import tensorflow as tf \n",
    "from tensorflow.keras.applications.vgg16 import VGG16, preprocess_input\n",
    "from tensorflow.keras.utils import img_to_array, get_file\n",
    "from tensorflow.keras.preprocessing.image import load_img\n",
    "from skimage.transform import resize"
   ]
  },
  {
   "cell_type": "markdown",
   "metadata": {},
   "source": [
    "### Load Labels"
   ]
  },
  {
   "cell_type": "code",
   "execution_count": 9,
   "metadata": {},
   "outputs": [
    {
     "name": "stdout",
     "output_type": "stream",
     "text": [
      "Num of Labels: 1000\n",
      "Labels Sample:  ['tench, Tinca tinca', 'goldfish, Carassius auratus', 'great white shark, white shark, man-eater, man-eating shark, Carcharodon carcharias', 'tiger shark, Galeocerdo cuvieri', 'hammerhead, hammerhead shark']\n"
     ]
    }
   ],
   "source": [
    "LABELS_PATH = './labels.txt'\n",
    "\n",
    "with open(LABELS_PATH, 'rt') as f:\n",
    "    labels = [label[:-1] for label in f.readlines()]\n",
    "\n",
    "print('Num of Labels: %s' % len(labels))\n",
    "print('Labels Sample: ', labels[:5])"
   ]
  },
  {
   "cell_type": "markdown",
   "metadata": {},
   "source": [
    "## Loading and preprocessing"
   ]
  },
  {
   "cell_type": "code",
   "execution_count": 11,
   "metadata": {},
   "outputs": [],
   "source": [
    "INPUT_SHAPE = (224, 224, 3)\n",
    "def load_and_preprocess(image_path):\n",
    "    img = load_img(image_path)\n",
    "    img = img_to_array(img)\n",
    "    img = resize(img, INPUT_SHAPE)\n",
    "    img = preprocess_input(img)\n",
    "    return img"
   ]
  },
  {
   "cell_type": "markdown",
   "metadata": {},
   "source": [
    "## Load the model "
   ]
  },
  {
   "cell_type": "code",
   "execution_count": 14,
   "metadata": {},
   "outputs": [
    {
     "name": "stdout",
     "output_type": "stream",
     "text": [
      "Downloading data from https://storage.googleapis.com/tensorflow/keras-applications/vgg16/vgg16_weights_tf_dim_ordering_tf_kernels.h5\n",
      "107642880/553467096 [====>.........................] - ETA: 7:33"
     ]
    }
   ],
   "source": [
    "vgg = VGG16(input_shape=INPUT_SHAPE, weights='imagenet', include_top=True)\n",
    "\n",
    "tf.keras.utils.plot_model(vgg, show_shapes=True)"
   ]
  },
  {
   "cell_type": "code",
   "execution_count": null,
   "metadata": {},
   "outputs": [],
   "source": [
    "SELECT_LAYERS = [1, 3, 5, 7, 8, 10]\n",
    "\n",
    "def get_layers_output(img):\n",
    "  input_layer = vgg.layers[0]\n",
    "  x = input_layer(np.expand_dims(img, axis=0))\n",
    "  outputs = [x[0]]\n",
    "  for layer in vgg.layers[1:]:\n",
    "    x = layer(x)\n",
    "    outputs.append(x[0])\n",
    "  \n",
    "  outputs = np.array(outputs)\n",
    "  return outputs[SELECT_LAYERS]\n",
    "\n",
    "def plot_layer_output(feature_maps, layer_idx, first=3):\n",
    "  fig = plt.figure(figsize=(first * 3, 4))\n",
    "  fig.suptitle('Layer %s' % layer_idx)\n",
    "  for idx in range(first):\n",
    "    sub_img = feature_maps[:, : , idx]\n",
    "    ax = plt.subplot(1, first, idx + 1)\n",
    "    ax.imshow(sub_img) \n",
    "    ax.set_title(feature_maps.shape)\n",
    "    ax.axis('off')\n",
    "  plt.show()\n",
    "\n",
    "def plot_feature_maps(layers_output):\n",
    "  for idx, output in zip(SELECT_LAYERS, layers_output):\n",
    "    plot_layer_output(output, idx, first=10)"
   ]
  },
  {
   "cell_type": "code",
   "execution_count": null,
   "metadata": {},
   "outputs": [],
   "source": []
  }
 ],
 "metadata": {
  "kernelspec": {
   "display_name": "Python 3.9.7 ('sk')",
   "language": "python",
   "name": "python3"
  },
  "language_info": {
   "codemirror_mode": {
    "name": "ipython",
    "version": 3
   },
   "file_extension": ".py",
   "mimetype": "text/x-python",
   "name": "python",
   "nbconvert_exporter": "python",
   "pygments_lexer": "ipython3",
   "version": "3.9.7"
  },
  "orig_nbformat": 4,
  "vscode": {
   "interpreter": {
    "hash": "2125ec421a67a6042ef86a178288f7228064f025fa97d73fd87bc2f5738389af"
   }
  }
 },
 "nbformat": 4,
 "nbformat_minor": 2
}
